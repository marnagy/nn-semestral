{
 "cells": [
  {
   "cell_type": "code",
   "execution_count": 1,
   "id": "088d1063",
   "metadata": {},
   "outputs": [],
   "source": [
    "import matplotlib.pyplot as plt\n",
    "import pandas as pd\n",
    "import numpy as np\n",
    "from datetime import datetime"
   ]
  },
  {
   "cell_type": "code",
   "execution_count": 2,
   "id": "0c7a799b",
   "metadata": {},
   "outputs": [],
   "source": [
    "df = pd.read_csv('inputs.csv')"
   ]
  },
  {
   "cell_type": "code",
   "execution_count": 3,
   "id": "6e615b6d",
   "metadata": {},
   "outputs": [
    {
     "name": "stdout",
     "output_type": "stream",
     "text": [
      "<class 'pandas.core.frame.DataFrame'>\n",
      "RangeIndex: 636 entries, 0 to 635\n",
      "Data columns (total 40 columns):\n",
      " #   Column  Non-Null Count  Dtype  \n",
      "---  ------  --------------  -----  \n",
      " 0   0       636 non-null    float64\n",
      " 1   1       636 non-null    float64\n",
      " 2   2       636 non-null    float64\n",
      " 3   3       636 non-null    float64\n",
      " 4   4       636 non-null    float64\n",
      " 5   5       636 non-null    float64\n",
      " 6   6       636 non-null    float64\n",
      " 7   7       636 non-null    float64\n",
      " 8   8       636 non-null    float64\n",
      " 9   9       636 non-null    float64\n",
      " 10  10      636 non-null    float64\n",
      " 11  11      636 non-null    float64\n",
      " 12  12      636 non-null    float64\n",
      " 13  13      636 non-null    float64\n",
      " 14  14      636 non-null    float64\n",
      " 15  15      636 non-null    float64\n",
      " 16  16      636 non-null    float64\n",
      " 17  17      636 non-null    float64\n",
      " 18  18      636 non-null    float64\n",
      " 19  19      636 non-null    float64\n",
      " 20  20      636 non-null    float64\n",
      " 21  21      636 non-null    float64\n",
      " 22  22      636 non-null    float64\n",
      " 23  23      636 non-null    float64\n",
      " 24  24      636 non-null    float64\n",
      " 25  25      636 non-null    float64\n",
      " 26  26      636 non-null    float64\n",
      " 27  27      636 non-null    float64\n",
      " 28  28      636 non-null    float64\n",
      " 29  29      636 non-null    float64\n",
      " 30  30      636 non-null    float64\n",
      " 31  31      636 non-null    float64\n",
      " 32  32      636 non-null    float64\n",
      " 33  33      636 non-null    float64\n",
      " 34  34      636 non-null    float64\n",
      " 35  35      636 non-null    float64\n",
      " 36  36      636 non-null    float64\n",
      " 37  37      636 non-null    float64\n",
      " 38  38      636 non-null    float64\n",
      " 39  39      636 non-null    float64\n",
      "dtypes: float64(40)\n",
      "memory usage: 198.9 KB\n"
     ]
    }
   ],
   "source": [
    "df.info()"
   ]
  },
  {
   "cell_type": "code",
   "execution_count": 4,
   "id": "62157931",
   "metadata": {},
   "outputs": [],
   "source": [
    "from sklearn.decomposition import PCA"
   ]
  },
  {
   "cell_type": "code",
   "execution_count": 6,
   "id": "4b6d4344",
   "metadata": {},
   "outputs": [],
   "source": [
    "pca = PCA(n_components=30)"
   ]
  },
  {
   "cell_type": "code",
   "execution_count": 7,
   "id": "c2fa0edd",
   "metadata": {},
   "outputs": [
    {
     "data": {
      "text/plain": [
       "PCA(n_components=30)"
      ]
     },
     "execution_count": 7,
     "metadata": {},
     "output_type": "execute_result"
    }
   ],
   "source": [
    "#df = df.drop(['datum', 'id'], axis=1)\n",
    "pca.fit(df.to_numpy())"
   ]
  },
  {
   "cell_type": "code",
   "execution_count": 8,
   "id": "52aa3ecb",
   "metadata": {},
   "outputs": [
    {
     "name": "stdout",
     "output_type": "stream",
     "text": [
      "[8.98197869e-01 9.61716144e-02 5.07109890e-03 4.97642234e-04\n",
      " 4.03935563e-05 6.88536954e-06 4.67930469e-06 3.32537800e-06\n",
      " 1.85759982e-06 1.69740862e-06 6.81095733e-07 5.90453804e-07\n",
      " 4.04579486e-07 2.93413150e-07 1.86049274e-07 1.83958514e-07\n",
      " 1.24409217e-07 6.95981189e-08 5.92334301e-08 5.64789330e-08\n",
      " 5.19602495e-08 4.56623964e-08 3.03752061e-08 2.74335978e-08\n",
      " 2.41534460e-08 2.17694832e-08 1.40665650e-08 1.30073733e-08\n",
      " 8.37226144e-09 6.95116169e-09]\n"
     ]
    }
   ],
   "source": [
    "print(pca.explained_variance_ratio_)"
   ]
  },
  {
   "cell_type": "code",
   "execution_count": 9,
   "id": "b4b54449",
   "metadata": {},
   "outputs": [
    {
     "data": {
      "image/png": "[encoded data removed]",
      "text/plain": [
       "<Figure size 432x288 with 1 Axes>"
      ]
     },
     "metadata": {
      "needs_background": "light"
     },
     "output_type": "display_data"
    }
   ],
   "source": [
    "plt.plot(\n",
    "    list(range(len(pca.explained_variance_ratio_))),\n",
    "    pca.explained_variance_ratio_,\n",
    "    'x')\n",
    "plt.yscale('log')"
   ]
  },
  {
   "cell_type": "code",
   "execution_count": null,
   "id": "43d9c8df",
   "metadata": {},
   "outputs": [],
   "source": []
  }
 ],
 "metadata": {
  "kernelspec": {
   "display_name": "Python 3 (ipykernel)",
   "language": "python",
   "name": "python3"
  },
  "language_info": {
   "codemirror_mode": {
    "name": "ipython",
    "version": 3
   },
   "file_extension": ".py",
   "mimetype": "text/x-python",
   "name": "python",
   "nbconvert_exporter": "python",
   "pygments_lexer": "ipython3",
   "version": "3.9.7"
  }
 },
 "nbformat": 4,
 "nbformat_minor": 5
}
