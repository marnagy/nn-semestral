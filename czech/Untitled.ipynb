{
 "cells": [
  {
   "cell_type": "code",
   "execution_count": 1,
   "id": "4007fd12",
   "metadata": {},
   "outputs": [],
   "source": [
    "import pandas as pd\n",
    "import numpy as np"
   ]
  },
  {
   "cell_type": "code",
   "execution_count": 2,
   "id": "9b4811fc",
   "metadata": {},
   "outputs": [],
   "source": [
    "df = pd.read_csv('result.csv')"
   ]
  },
  {
   "cell_type": "code",
   "execution_count": 4,
   "id": "087558bd",
   "metadata": {},
   "outputs": [
    {
     "name": "stdout",
     "output_type": "stream",
     "text": [
      "<class 'pandas.core.frame.DataFrame'>\n",
      "RangeIndex: 681 entries, 0 to 680\n",
      "Data columns (total 29 columns):\n",
      " #   Column                                  Non-Null Count  Dtype  \n",
      "---  ------                                  --------------  -----  \n",
      " 0   datum                                   681 non-null    object \n",
      " 1   kumulativni_pocet_nakazenych            680 non-null    float64\n",
      " 2   kumulativni_pocet_vylecenych            680 non-null    float64\n",
      " 3   kumulativni_pocet_umrti                 680 non-null    float64\n",
      " 4   kumulativni_pocet_testu                 680 non-null    float64\n",
      " 5   kumulativni_pocet_ag_testu              680 non-null    float64\n",
      " 6   prirustkovy_pocet_nakazenych            680 non-null    float64\n",
      " 7   prirustkovy_pocet_vylecenych            680 non-null    float64\n",
      " 8   prirustkovy_pocet_umrti                 680 non-null    float64\n",
      " 9   prirustkovy_pocet_provedenych_testu     680 non-null    float64\n",
      " 10  prirustkovy_pocet_provedenych_ag_testu  680 non-null    float64\n",
      " 11  first_vaccine                           681 non-null    float64\n",
      " 12  second_vaccine                          681 non-null    float64\n",
      " 13  id                                      647 non-null    object \n",
      " 14  pacient_prvni_zaznam                    681 non-null    float64\n",
      " 15  kum_pacient_prvni_zaznam                681 non-null    float64\n",
      " 16  pocet_hosp                              681 non-null    float64\n",
      " 17  stav_bez_priznaku                       681 non-null    float64\n",
      " 18  stav_lehky                              681 non-null    float64\n",
      " 19  stav_stredni                            681 non-null    float64\n",
      " 20  stav_tezky                              681 non-null    float64\n",
      " 21  jip                                     681 non-null    float64\n",
      " 22  kyslik                                  681 non-null    float64\n",
      " 23  hfno                                    681 non-null    float64\n",
      " 24  upv                                     681 non-null    float64\n",
      " 25  ecmo                                    681 non-null    float64\n",
      " 26  tezky_upv_ecmo                          681 non-null    float64\n",
      " 27  umrti                                   681 non-null    float64\n",
      " 28  kum_umrti                               681 non-null    float64\n",
      "dtypes: float64(27), object(2)\n",
      "memory usage: 154.4+ KB\n"
     ]
    }
   ],
   "source": [
    "df.info()\n",
    "#df.head()"
   ]
  },
  {
   "cell_type": "code",
   "execution_count": 8,
   "id": "9aabd892",
   "metadata": {},
   "outputs": [],
   "source": [
    "df['first_vaccine'].fillna(0, inplace=True)\n",
    "df['first_vaccine'] = df['first_vaccine'].astype(np.int32)\n",
    "\n",
    "df['second_vaccine'].fillna(0, inplace=True)\n",
    "df['second_vaccine'] = df['second_vaccine'].astype(np.int32)"
   ]
  },
  {
   "cell_type": "code",
   "execution_count": 6,
   "id": "9206af46",
   "metadata": {},
   "outputs": [
    {
     "data": {
      "text/plain": [
       "array([    0,  1278,  2307,  3467,  3516,  1220,   269,  1279,   893,\n",
       "        3376,  4837,  5575,  7654,  8950,  1991,  1728, 10071, 13039,\n",
       "       14120, 16243, 15220,  2248,  2551, 12959, 14107, 11116, 15454,\n",
       "       15486,  3786,  2619, 10866, 13173,  8460,  8208,  5037,   732,\n",
       "         601,  3511,  5429,  3364,  3105,  6415,   523,  1274,  4851,\n",
       "        4779,  5711,  5652,  8250,  1693,  1232,  8758,  7755,  8215,\n",
       "       21579, 15851,  1967,  1001, 12568,  9224, 11713, 19064, 17266,\n",
       "        3008,  2346, 19585, 27216, 30879, 33269, 29438, 11086, 11470,\n",
       "       30624, 36385, 38233, 42748, 39060, 16573, 13779, 27217, 41431,\n",
       "       35020, 35657, 33131, 14760,  6931, 21958, 26471, 23746, 26143,\n",
       "       25106, 10012,  3809, 18471, 25944, 22560, 25460,  6257,  3495,\n",
       "        3250,  2422, 22143, 38864, 40906, 16647,  9569, 37509, 32287,\n",
       "       38608, 41584, 42524, 16688, 11872, 43972, 43106, 47254, 57203,\n",
       "       49957, 17826, 14686, 45218, 47333, 58742, 63916, 62231, 19322,\n",
       "       18910, 71312, 67848, 73149, 80379, 77228, 29428, 23802, 70767,\n",
       "       75253, 83469, 77411, 92145, 31985, 28537, 59546, 74783, 75665,\n",
       "       75411, 68740, 32355, 22342, 47116, 51820, 70029, 65271, 58374,\n",
       "       29162, 22349, 55717, 65837, 60942, 58209, 64887, 34125, 26905,\n",
       "       63191, 57276, 65083, 54991, 53094, 29503, 25253, 47247, 46806,\n",
       "       38933, 46712, 45128, 18096, 14891, 34792, 42888, 31648, 29832,\n",
       "       31047, 15854, 13937, 28400, 29261, 27485, 23964, 26707,  7073,\n",
       "        7549,  7361,  5402, 25777, 26592, 27908,  9340,  8519, 27518,\n",
       "       26167, 25799, 29165, 27903,  8762,  8436, 23340, 21376, 23443,\n",
       "       22352, 23185,  7305,  6608, 23528, 22721, 21237, 21306, 23261,\n",
       "        8914,  6713, 18615, 17621, 16079, 16019, 16778,  5585,  4350,\n",
       "       12637, 11827, 11352, 11415, 10712,  3335,  2579,  9779,  9589,\n",
       "        9363,  9661, 11376,  2713,  2339, 10528,  9862,  8860,  8442,\n",
       "       10310,  2720,  2402,  8517,  7661,  5882,  6826,  9549,  2062,\n",
       "        2032,  6226,  4375,  5657,  6674,  7678,  1861,  1114,  5424,\n",
       "        5380,  5186,  5343,  6563,  1723,   940,  4004,  4225,  4173,\n",
       "        4977,  5751,  1490,   740,  3873,   356,  3771,  4494,  4284,\n",
       "        1059,   715,  3067,  3152,  3508,  3270,  1238,  2921,  2913,\n",
       "        3529,  3673,  5225,  1395,  1319,  4110,  3568,  4859,  7742,\n",
       "       10439,  3668,  2682, 10475, 11915, 14577,  3351, 14407,  4524,\n",
       "        3756, 15109, 15298, 17085, 18210, 22698,  6485,  4012, 16161,\n",
       "       14704, 15648, 15330, 19673,  5384, 14989, 17423,  4181, 19287,\n",
       "       24413,  8527,  6744, 18300, 18920, 18865, 19049, 21468,  7386,\n",
       "        3308, 15083, 13026, 13798, 10466,  9215,  2452,  1321,  7400])"
      ]
     },
     "execution_count": 6,
     "metadata": {},
     "output_type": "execute_result"
    }
   ],
   "source": [
    "df['first_vaccine'].unique()"
   ]
  },
  {
   "cell_type": "code",
   "execution_count": null,
   "id": "ab1586d3",
   "metadata": {},
   "outputs": [],
   "source": []
  }
 ],
 "metadata": {
  "kernelspec": {
   "display_name": "Python 3 (ipykernel)",
   "language": "python",
   "name": "python3"
  },
  "language_info": {
   "codemirror_mode": {
    "name": "ipython",
    "version": 3
   },
   "file_extension": ".py",
   "mimetype": "text/x-python",
   "name": "python",
   "nbconvert_exporter": "python",
   "pygments_lexer": "ipython3",
   "version": "3.9.7"
  }
 },
 "nbformat": 4,
 "nbformat_minor": 5
}
