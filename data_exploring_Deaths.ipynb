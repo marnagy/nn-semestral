{
 "cells": [
  {
   "cell_type": "code",
   "execution_count": 1,
   "id": "022c1aef",
   "metadata": {},
   "outputs": [],
   "source": [
    "import pandas as pd\n",
    "import os\n",
    "import numpy as np"
   ]
  },
  {
   "cell_type": "code",
   "execution_count": 2,
   "id": "53bfd150",
   "metadata": {},
   "outputs": [],
   "source": [
    "deaths_filepath = os.path.join('.', 'covid19-data', 'Deaths', 'OpenData_Slovakia_Covid_Deaths_AgeGroup_District.csv')"
   ]
  },
  {
   "cell_type": "code",
   "execution_count": 3,
   "id": "9b95f71a",
   "metadata": {},
   "outputs": [],
   "source": [
    "# encoding for Windows-1252\n",
    "deaths_df = pd.read_csv(deaths_filepath, delimiter=';', encoding='cp1252')\n",
    "\n",
    "date_splitter = '.'\n",
    "deaths_df['Day'] = deaths_df['Date'].apply(lambda datum: int(datum.split(date_splitter)[0]))\n",
    "deaths_df['Month'] = deaths_df['Date'].apply(lambda datum: int(datum.split(date_splitter)[1]))\n",
    "deaths_df['Year'] = deaths_df['Date'].apply(lambda datum: int(datum.split(date_splitter)[-1]))\n",
    "\n",
    "deaths_df['Region'] = deaths_df['Region'].apply(lambda x: x if x != 'Tren?iansky' else 'Trenčiansky')\n",
    "\n",
    "# remove nan (type(nan) is float)\n",
    "districts = list(filter(lambda reg: type(reg) is str, deaths_df[\"District\"].unique()))\n",
    "invalid_districts = list(filter(lambda dist: '?' in dist, districts))"
   ]
  },
  {
   "cell_type": "code",
   "execution_count": 5,
   "id": "3ed30634",
   "metadata": {},
   "outputs": [
    {
     "data": {
      "text/html": [
       "<div>\n",
       "<style scoped>\n",
       "    .dataframe tbody tr th:only-of-type {\n",
       "        vertical-align: middle;\n",
       "    }\n",
       "\n",
       "    .dataframe tbody tr th {\n",
       "        vertical-align: top;\n",
       "    }\n",
       "\n",
       "    .dataframe thead th {\n",
       "        text-align: right;\n",
       "    }\n",
       "</style>\n",
       "<table border=\"1\" class=\"dataframe\">\n",
       "  <thead>\n",
       "    <tr style=\"text-align: right;\">\n",
       "      <th></th>\n",
       "      <th>Date</th>\n",
       "      <th>Gender</th>\n",
       "      <th>District</th>\n",
       "      <th>AgeGroup</th>\n",
       "      <th>Type</th>\n",
       "      <th>Region</th>\n",
       "      <th>Day</th>\n",
       "      <th>Month</th>\n",
       "      <th>Year</th>\n",
       "    </tr>\n",
       "  </thead>\n",
       "  <tbody>\n",
       "    <tr>\n",
       "      <th>0</th>\n",
       "      <td>30.3.2020</td>\n",
       "      <td>M</td>\n",
       "      <td>Prievidza</td>\n",
       "      <td>60</td>\n",
       "      <td>Doma</td>\n",
       "      <td>Tren?iansky</td>\n",
       "      <td>30</td>\n",
       "      <td>3</td>\n",
       "      <td>2020</td>\n",
       "    </tr>\n",
       "    <tr>\n",
       "      <th>1</th>\n",
       "      <td>4.4.2020</td>\n",
       "      <td>M</td>\n",
       "      <td>Pezinok</td>\n",
       "      <td>55</td>\n",
       "      <td>DSS</td>\n",
       "      <td>Bratislavský</td>\n",
       "      <td>4</td>\n",
       "      <td>4</td>\n",
       "      <td>2020</td>\n",
       "    </tr>\n",
       "    <tr>\n",
       "      <th>2</th>\n",
       "      <td>6.4.2020</td>\n",
       "      <td>F</td>\n",
       "      <td>Bratislava</td>\n",
       "      <td>65</td>\n",
       "      <td>Nemocnica</td>\n",
       "      <td>Bratislavský</td>\n",
       "      <td>6</td>\n",
       "      <td>4</td>\n",
       "      <td>2020</td>\n",
       "    </tr>\n",
       "    <tr>\n",
       "      <th>3</th>\n",
       "      <td>14.4.2020</td>\n",
       "      <td>M</td>\n",
       "      <td>Trnava</td>\n",
       "      <td>85</td>\n",
       "      <td>Nemocnica</td>\n",
       "      <td>Trnavský</td>\n",
       "      <td>14</td>\n",
       "      <td>4</td>\n",
       "      <td>2020</td>\n",
       "    </tr>\n",
       "    <tr>\n",
       "      <th>4</th>\n",
       "      <td>15.4.2020</td>\n",
       "      <td>M</td>\n",
       "      <td>Bratislava</td>\n",
       "      <td>60</td>\n",
       "      <td>Nemocnica</td>\n",
       "      <td>Bratislavský</td>\n",
       "      <td>15</td>\n",
       "      <td>4</td>\n",
       "      <td>2020</td>\n",
       "    </tr>\n",
       "  </tbody>\n",
       "</table>\n",
       "</div>"
      ],
      "text/plain": [
       "        Date Gender    District  AgeGroup       Type        Region  Day  \\\n",
       "0  30.3.2020      M   Prievidza        60       Doma   Tren?iansky   30   \n",
       "1   4.4.2020      M     Pezinok        55        DSS  Bratislavský    4   \n",
       "2   6.4.2020      F  Bratislava        65  Nemocnica  Bratislavský    6   \n",
       "3  14.4.2020      M      Trnava        85  Nemocnica      Trnavský   14   \n",
       "4  15.4.2020      M  Bratislava        60  Nemocnica  Bratislavský   15   \n",
       "\n",
       "   Month  Year  \n",
       "0      3  2020  \n",
       "1      4  2020  \n",
       "2      4  2020  \n",
       "3      4  2020  \n",
       "4      4  2020  "
      ]
     },
     "execution_count": 5,
     "metadata": {},
     "output_type": "execute_result"
    }
   ],
   "source": [
    "#print(invalid_districts)\n",
    "fixed_districts = ['Trenčín', 'Lučenec', 'Čadca', 'Piešňany', 'Vranov nad Topľou', 'Stará Ľubovňa', 'Topoľčany', 'Rožňava', 'Veľký Krtíš', 'Levoča', 'Bytča', 'Šaľa']\n",
    "\n",
    "deaths_df['District'] = deaths_df['District'].apply(lambda dist: fixed_districts[invalid_districts.index(dist)] if dist in invalid_districts else dist)\n",
    "\n",
    "deaths_df.head()\n",
    "#deaths_df.info()"
   ]
  },
  {
   "cell_type": "code",
   "execution_count": 6,
   "id": "578699f4",
   "metadata": {
    "scrolled": true
   },
   "outputs": [
    {
     "name": "stdout",
     "output_type": "stream",
     "text": [
      "['M' 'F']\n",
      "['Prievidza' 'Pezinok' 'Bratislava' 'Trnava' 'Prešov' 'Poprad' 'Martin'\n",
      " 'Trenčín' 'Dunajská Streda' 'Košice' 'Ružomberok' 'Nitra' 'Michalovce'\n",
      " 'Lučenec' 'Galanta' 'Nové Zámky' 'Žiar nad Hronom' nan 'Partizánske'\n",
      " 'Humenné' 'Čadca' 'Kežmarok' 'Komárno' 'Sobrance' 'Brezno' 'Skalica'\n",
      " 'Bardejov' 'Žarnovica' 'Banská Bystrica' 'Piešňany' 'Trebišov' 'Zvolen'\n",
      " 'Vranov nad Topľou' 'Dolný Kubín' 'Liptovský Mikuláš' 'Levice' 'Svidník'\n",
      " 'Námestovo' 'Tvrdošín' 'Stará Ľubovňa' 'Medzilaborce' 'Rimavská Sobota'\n",
      " 'Považská Bystrica' 'Topoľčany' 'Žilina' 'Myjava' 'Snina' 'Rožňava'\n",
      " 'Veľký Krtíš' 'Levoča' 'Spišská Nová Ves' 'Bánovce nad Bebravou' 'Senica'\n",
      " 'Detva' 'Poltár' 'Sabinov' 'Kysucké Nové Mesto' 'Zlaté Moravce' 'Revúca'\n",
      " 'Hlohovec' 'Nové Mesto n.Váhom' 'Banská Štiavnica' 'Bytča' 'Malacky'\n",
      " 'Ilava' 'Púchov' 'Krupina' 'Senec' 'Stropkov' 'Gelnica' 'Šaľa']\n",
      "[ 60  55  65  85  80  90  95  70  75  15  50  30  45  40  25  35 100  20\n",
      "   0  10]\n",
      "['Doma' 'DSS' 'Nemocnica' 'Sanitka' nan]\n",
      "['Tren?iansky' 'Bratislavský' 'Trnavský' 'Prešovský' 'Žilinský' 'Košický'\n",
      " 'Nitriansky' 'Banskobystrický' nan]\n",
      "46\n",
      "84\n",
      "84\n"
     ]
    }
   ],
   "source": [
    "print(deaths_df['Gender'].unique())\n",
    "print(deaths_df['District'].unique())\n",
    "print(deaths_df['AgeGroup'].unique())\n",
    "print(deaths_df['Type'].unique())\n",
    "print(deaths_df['Region'].unique())\n",
    "print(deaths_df['Type'].isnull().sum())\n",
    "print(deaths_df['District'].isnull().sum())\n",
    "print(deaths_df['Region'].isnull().sum())"
   ]
  },
  {
   "cell_type": "code",
   "execution_count": 8,
   "id": "f5d1b360",
   "metadata": {},
   "outputs": [
    {
     "data": {
      "text/plain": [
       "array([ 3,  4,  5,  7,  8,  9, 10, 11, 12,  1,  2,  6], dtype=int64)"
      ]
     },
     "execution_count": 8,
     "metadata": {},
     "output_type": "execute_result"
    }
   ],
   "source": [
    "deaths_df['Month'].unique()"
   ]
  },
  {
   "cell_type": "code",
   "execution_count": 10,
   "id": "b1a971d8",
   "metadata": {},
   "outputs": [],
   "source": [
    "final_death_df = deaths_df.drop(['Date'], axis='columns')"
   ]
  },
  {
   "cell_type": "code",
   "execution_count": 11,
   "id": "f9f1ce7b",
   "metadata": {},
   "outputs": [
    {
     "data": {
      "text/html": [
       "<div>\n",
       "<style scoped>\n",
       "    .dataframe tbody tr th:only-of-type {\n",
       "        vertical-align: middle;\n",
       "    }\n",
       "\n",
       "    .dataframe tbody tr th {\n",
       "        vertical-align: top;\n",
       "    }\n",
       "\n",
       "    .dataframe thead th {\n",
       "        text-align: right;\n",
       "    }\n",
       "</style>\n",
       "<table border=\"1\" class=\"dataframe\">\n",
       "  <thead>\n",
       "    <tr style=\"text-align: right;\">\n",
       "      <th></th>\n",
       "      <th>Gender</th>\n",
       "      <th>District</th>\n",
       "      <th>AgeGroup</th>\n",
       "      <th>Type</th>\n",
       "      <th>Region</th>\n",
       "      <th>Day</th>\n",
       "      <th>Month</th>\n",
       "      <th>Year</th>\n",
       "    </tr>\n",
       "  </thead>\n",
       "  <tbody>\n",
       "    <tr>\n",
       "      <th>0</th>\n",
       "      <td>M</td>\n",
       "      <td>Prievidza</td>\n",
       "      <td>60</td>\n",
       "      <td>Doma</td>\n",
       "      <td>Tren?iansky</td>\n",
       "      <td>30</td>\n",
       "      <td>3</td>\n",
       "      <td>2020</td>\n",
       "    </tr>\n",
       "    <tr>\n",
       "      <th>1</th>\n",
       "      <td>M</td>\n",
       "      <td>Pezinok</td>\n",
       "      <td>55</td>\n",
       "      <td>DSS</td>\n",
       "      <td>Bratislavský</td>\n",
       "      <td>4</td>\n",
       "      <td>4</td>\n",
       "      <td>2020</td>\n",
       "    </tr>\n",
       "    <tr>\n",
       "      <th>2</th>\n",
       "      <td>F</td>\n",
       "      <td>Bratislava</td>\n",
       "      <td>65</td>\n",
       "      <td>Nemocnica</td>\n",
       "      <td>Bratislavský</td>\n",
       "      <td>6</td>\n",
       "      <td>4</td>\n",
       "      <td>2020</td>\n",
       "    </tr>\n",
       "    <tr>\n",
       "      <th>3</th>\n",
       "      <td>M</td>\n",
       "      <td>Trnava</td>\n",
       "      <td>85</td>\n",
       "      <td>Nemocnica</td>\n",
       "      <td>Trnavský</td>\n",
       "      <td>14</td>\n",
       "      <td>4</td>\n",
       "      <td>2020</td>\n",
       "    </tr>\n",
       "    <tr>\n",
       "      <th>4</th>\n",
       "      <td>M</td>\n",
       "      <td>Bratislava</td>\n",
       "      <td>60</td>\n",
       "      <td>Nemocnica</td>\n",
       "      <td>Bratislavský</td>\n",
       "      <td>15</td>\n",
       "      <td>4</td>\n",
       "      <td>2020</td>\n",
       "    </tr>\n",
       "  </tbody>\n",
       "</table>\n",
       "</div>"
      ],
      "text/plain": [
       "  Gender    District  AgeGroup       Type        Region  Day  Month  Year\n",
       "0      M   Prievidza        60       Doma   Tren?iansky   30      3  2020\n",
       "1      M     Pezinok        55        DSS  Bratislavský    4      4  2020\n",
       "2      F  Bratislava        65  Nemocnica  Bratislavský    6      4  2020\n",
       "3      M      Trnava        85  Nemocnica      Trnavský   14      4  2020\n",
       "4      M  Bratislava        60  Nemocnica  Bratislavský   15      4  2020"
      ]
     },
     "execution_count": 11,
     "metadata": {},
     "output_type": "execute_result"
    }
   ],
   "source": [
    "final_death_df.head()"
   ]
  },
  {
   "cell_type": "code",
   "execution_count": 12,
   "id": "d7bb88d2",
   "metadata": {},
   "outputs": [
    {
     "name": "stdout",
     "output_type": "stream",
     "text": [
      "<class 'pandas.core.frame.DataFrame'>\n",
      "RangeIndex: 14434 entries, 0 to 14433\n",
      "Data columns (total 8 columns):\n",
      " #   Column    Non-Null Count  Dtype \n",
      "---  ------    --------------  ----- \n",
      " 0   Gender    14434 non-null  object\n",
      " 1   District  14350 non-null  object\n",
      " 2   AgeGroup  14434 non-null  int64 \n",
      " 3   Type      14388 non-null  object\n",
      " 4   Region    14350 non-null  object\n",
      " 5   Day       14434 non-null  int64 \n",
      " 6   Month     14434 non-null  int64 \n",
      " 7   Year      14434 non-null  int64 \n",
      "dtypes: int64(4), object(4)\n",
      "memory usage: 902.2+ KB\n"
     ]
    }
   ],
   "source": [
    "final_death_df.info()"
   ]
  },
  {
   "cell_type": "code",
   "execution_count": null,
   "id": "abd4ba0c",
   "metadata": {},
   "outputs": [],
   "source": []
  }
 ],
 "metadata": {
  "kernelspec": {
   "display_name": "Python 3 (ipykernel)",
   "language": "python",
   "name": "python3"
  },
  "language_info": {
   "codemirror_mode": {
    "name": "ipython",
    "version": 3
   },
   "file_extension": ".py",
   "mimetype": "text/x-python",
   "name": "python",
   "nbconvert_exporter": "python",
   "pygments_lexer": "ipython3",
   "version": "3.9.7"
  }
 },
 "nbformat": 4,
 "nbformat_minor": 5
}
