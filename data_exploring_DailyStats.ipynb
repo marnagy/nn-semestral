{
 "cells": [
  {
   "cell_type": "code",
   "execution_count": 1,
   "id": "022c1aef",
   "metadata": {},
   "outputs": [],
   "source": [
    "import pandas as pd\n",
    "import os\n",
    "import numpy as np"
   ]
  },
  {
   "cell_type": "code",
   "execution_count": 2,
   "id": "53bfd150",
   "metadata": {},
   "outputs": [],
   "source": [
    "daily_stats_filepath = os.path.join('.', 'data-slovakia', 'DailyStats', 'OpenData_Slovakia_Covid_DailyStats.csv')"
   ]
  },
  {
   "cell_type": "code",
   "execution_count": 3,
   "id": "9b95f71a",
   "metadata": {},
   "outputs": [],
   "source": [
    "daily_stats_df = pd.read_csv(daily_stats_filepath, delimiter=';')"
   ]
  },
  {
   "cell_type": "code",
   "execution_count": 4,
   "id": "3ed30634",
   "metadata": {},
   "outputs": [
    {
     "data": {
      "text/html": [
       "<div>\n",
       "<style scoped>\n",
       "    .dataframe tbody tr th:only-of-type {\n",
       "        vertical-align: middle;\n",
       "    }\n",
       "\n",
       "    .dataframe tbody tr th {\n",
       "        vertical-align: top;\n",
       "    }\n",
       "\n",
       "    .dataframe thead th {\n",
       "        text-align: right;\n",
       "    }\n",
       "</style>\n",
       "<table border=\"1\" class=\"dataframe\">\n",
       "  <thead>\n",
       "    <tr style=\"text-align: right;\">\n",
       "      <th></th>\n",
       "      <th>Datum</th>\n",
       "      <th>Pocet.potvrdenych.PCR.testami</th>\n",
       "      <th>Dennych.PCR.testov</th>\n",
       "      <th>Dennych.PCR.prirastkov</th>\n",
       "      <th>Pocet.umrti</th>\n",
       "      <th>AgTests</th>\n",
       "      <th>AgPosit</th>\n",
       "    </tr>\n",
       "  </thead>\n",
       "  <tbody>\n",
       "    <tr>\n",
       "      <th>0</th>\n",
       "      <td>2020-03-06</td>\n",
       "      <td>1</td>\n",
       "      <td>378</td>\n",
       "      <td>1</td>\n",
       "      <td>0</td>\n",
       "      <td>NaN</td>\n",
       "      <td>NaN</td>\n",
       "    </tr>\n",
       "    <tr>\n",
       "      <th>1</th>\n",
       "      <td>2020-03-07</td>\n",
       "      <td>3</td>\n",
       "      <td>66</td>\n",
       "      <td>2</td>\n",
       "      <td>0</td>\n",
       "      <td>NaN</td>\n",
       "      <td>NaN</td>\n",
       "    </tr>\n",
       "    <tr>\n",
       "      <th>2</th>\n",
       "      <td>2020-03-08</td>\n",
       "      <td>5</td>\n",
       "      <td>76</td>\n",
       "      <td>2</td>\n",
       "      <td>0</td>\n",
       "      <td>NaN</td>\n",
       "      <td>NaN</td>\n",
       "    </tr>\n",
       "    <tr>\n",
       "      <th>3</th>\n",
       "      <td>2020-03-09</td>\n",
       "      <td>7</td>\n",
       "      <td>69</td>\n",
       "      <td>2</td>\n",
       "      <td>0</td>\n",
       "      <td>NaN</td>\n",
       "      <td>NaN</td>\n",
       "    </tr>\n",
       "    <tr>\n",
       "      <th>4</th>\n",
       "      <td>2020-03-10</td>\n",
       "      <td>7</td>\n",
       "      <td>111</td>\n",
       "      <td>0</td>\n",
       "      <td>0</td>\n",
       "      <td>NaN</td>\n",
       "      <td>NaN</td>\n",
       "    </tr>\n",
       "  </tbody>\n",
       "</table>\n",
       "</div>"
      ],
      "text/plain": [
       "        Datum  Pocet.potvrdenych.PCR.testami  Dennych.PCR.testov  \\\n",
       "0  2020-03-06                              1                 378   \n",
       "1  2020-03-07                              3                  66   \n",
       "2  2020-03-08                              5                  76   \n",
       "3  2020-03-09                              7                  69   \n",
       "4  2020-03-10                              7                 111   \n",
       "\n",
       "   Dennych.PCR.prirastkov  Pocet.umrti  AgTests  AgPosit  \n",
       "0                       1            0      NaN      NaN  \n",
       "1                       2            0      NaN      NaN  \n",
       "2                       2            0      NaN      NaN  \n",
       "3                       2            0      NaN      NaN  \n",
       "4                       0            0      NaN      NaN  "
      ]
     },
     "execution_count": 4,
     "metadata": {},
     "output_type": "execute_result"
    }
   ],
   "source": [
    "daily_stats_df.head()\n",
    "#daily_stats_df.info()"
   ]
  },
  {
   "cell_type": "code",
   "execution_count": 5,
   "id": "1f990f5c",
   "metadata": {},
   "outputs": [],
   "source": [
    "daily_stats_df['AgTests'].fillna(0, inplace=True)\n",
    "daily_stats_df['AgPosit'].fillna(0, inplace=True)\n",
    "daily_stats_df['AgTests'] = daily_stats_df['AgTests'].astype(np.int64)\n",
    "daily_stats_df['AgPosit'] = daily_stats_df['AgPosit'].astype(np.int64)\n",
    "daily_stats_df['Day'] = daily_stats_df['Datum'].apply(lambda datum: int(datum.split('-')[-1]))\n",
    "daily_stats_df['Month'] = daily_stats_df['Datum'].apply(lambda datum: int(datum.split('-')[1]))\n",
    "daily_stats_df['Year'] = daily_stats_df['Datum'].apply(lambda datum: int(datum.split('-')[0]))"
   ]
  },
  {
   "cell_type": "code",
   "execution_count": 6,
   "id": "f5d1b360",
   "metadata": {},
   "outputs": [
    {
     "data": {
      "text/plain": [
       "0      2020-03-06\n",
       "1      2020-03-07\n",
       "2      2020-03-08\n",
       "3      2020-03-09\n",
       "4      2020-03-10\n",
       "          ...    \n",
       "632    2021-11-28\n",
       "633    2021-11-29\n",
       "634    2021-11-30\n",
       "635    2021-12-01\n",
       "636    2021-12-02\n",
       "Name: Datum, Length: 637, dtype: object"
      ]
     },
     "execution_count": 6,
     "metadata": {},
     "output_type": "execute_result"
    }
   ],
   "source": [
    "daily_stats_df['Datum']"
   ]
  },
  {
   "cell_type": "code",
   "execution_count": 7,
   "id": "d1f58927",
   "metadata": {},
   "outputs": [],
   "source": [
    "ds_df = daily_stats_df.drop(['Datum'], axis='columns')"
   ]
  },
  {
   "cell_type": "code",
   "execution_count": 8,
   "id": "f9f1ce7b",
   "metadata": {},
   "outputs": [
    {
     "data": {
      "text/html": [
       "<div>\n",
       "<style scoped>\n",
       "    .dataframe tbody tr th:only-of-type {\n",
       "        vertical-align: middle;\n",
       "    }\n",
       "\n",
       "    .dataframe tbody tr th {\n",
       "        vertical-align: top;\n",
       "    }\n",
       "\n",
       "    .dataframe thead th {\n",
       "        text-align: right;\n",
       "    }\n",
       "</style>\n",
       "<table border=\"1\" class=\"dataframe\">\n",
       "  <thead>\n",
       "    <tr style=\"text-align: right;\">\n",
       "      <th></th>\n",
       "      <th>Pocet.potvrdenych.PCR.testami</th>\n",
       "      <th>Dennych.PCR.testov</th>\n",
       "      <th>Dennych.PCR.prirastkov</th>\n",
       "      <th>Pocet.umrti</th>\n",
       "      <th>AgTests</th>\n",
       "      <th>AgPosit</th>\n",
       "      <th>Day</th>\n",
       "      <th>Month</th>\n",
       "      <th>Year</th>\n",
       "    </tr>\n",
       "  </thead>\n",
       "  <tbody>\n",
       "    <tr>\n",
       "      <th>0</th>\n",
       "      <td>1</td>\n",
       "      <td>378</td>\n",
       "      <td>1</td>\n",
       "      <td>0</td>\n",
       "      <td>0</td>\n",
       "      <td>0</td>\n",
       "      <td>6</td>\n",
       "      <td>3</td>\n",
       "      <td>2020</td>\n",
       "    </tr>\n",
       "    <tr>\n",
       "      <th>1</th>\n",
       "      <td>3</td>\n",
       "      <td>66</td>\n",
       "      <td>2</td>\n",
       "      <td>0</td>\n",
       "      <td>0</td>\n",
       "      <td>0</td>\n",
       "      <td>7</td>\n",
       "      <td>3</td>\n",
       "      <td>2020</td>\n",
       "    </tr>\n",
       "    <tr>\n",
       "      <th>2</th>\n",
       "      <td>5</td>\n",
       "      <td>76</td>\n",
       "      <td>2</td>\n",
       "      <td>0</td>\n",
       "      <td>0</td>\n",
       "      <td>0</td>\n",
       "      <td>8</td>\n",
       "      <td>3</td>\n",
       "      <td>2020</td>\n",
       "    </tr>\n",
       "    <tr>\n",
       "      <th>3</th>\n",
       "      <td>7</td>\n",
       "      <td>69</td>\n",
       "      <td>2</td>\n",
       "      <td>0</td>\n",
       "      <td>0</td>\n",
       "      <td>0</td>\n",
       "      <td>9</td>\n",
       "      <td>3</td>\n",
       "      <td>2020</td>\n",
       "    </tr>\n",
       "    <tr>\n",
       "      <th>4</th>\n",
       "      <td>7</td>\n",
       "      <td>111</td>\n",
       "      <td>0</td>\n",
       "      <td>0</td>\n",
       "      <td>0</td>\n",
       "      <td>0</td>\n",
       "      <td>10</td>\n",
       "      <td>3</td>\n",
       "      <td>2020</td>\n",
       "    </tr>\n",
       "  </tbody>\n",
       "</table>\n",
       "</div>"
      ],
      "text/plain": [
       "   Pocet.potvrdenych.PCR.testami  Dennych.PCR.testov  Dennych.PCR.prirastkov  \\\n",
       "0                              1                 378                       1   \n",
       "1                              3                  66                       2   \n",
       "2                              5                  76                       2   \n",
       "3                              7                  69                       2   \n",
       "4                              7                 111                       0   \n",
       "\n",
       "   Pocet.umrti  AgTests  AgPosit  Day  Month  Year  \n",
       "0            0        0        0    6      3  2020  \n",
       "1            0        0        0    7      3  2020  \n",
       "2            0        0        0    8      3  2020  \n",
       "3            0        0        0    9      3  2020  \n",
       "4            0        0        0   10      3  2020  "
      ]
     },
     "execution_count": 8,
     "metadata": {},
     "output_type": "execute_result"
    }
   ],
   "source": [
    "ds_df.head()"
   ]
  },
  {
   "cell_type": "code",
   "execution_count": 9,
   "id": "d7bb88d2",
   "metadata": {},
   "outputs": [
    {
     "name": "stdout",
     "output_type": "stream",
     "text": [
      "<class 'pandas.core.frame.DataFrame'>\n",
      "RangeIndex: 637 entries, 0 to 636\n",
      "Data columns (total 9 columns):\n",
      " #   Column                         Non-Null Count  Dtype\n",
      "---  ------                         --------------  -----\n",
      " 0   Pocet.potvrdenych.PCR.testami  637 non-null    int64\n",
      " 1   Dennych.PCR.testov             637 non-null    int64\n",
      " 2   Dennych.PCR.prirastkov         637 non-null    int64\n",
      " 3   Pocet.umrti                    637 non-null    int64\n",
      " 4   AgTests                        637 non-null    int64\n",
      " 5   AgPosit                        637 non-null    int64\n",
      " 6   Day                            637 non-null    int64\n",
      " 7   Month                          637 non-null    int64\n",
      " 8   Year                           637 non-null    int64\n",
      "dtypes: int64(9)\n",
      "memory usage: 44.9 KB\n"
     ]
    }
   ],
   "source": [
    "ds_df.info()"
   ]
  },
  {
   "cell_type": "code",
   "execution_count": null,
   "id": "abd4ba0c",
   "metadata": {},
   "outputs": [],
   "source": []
  }
 ],
 "metadata": {
  "kernelspec": {
   "display_name": "Python 3 (ipykernel)",
   "language": "python",
   "name": "python3"
  },
  "language_info": {
   "codemirror_mode": {
    "name": "ipython",
    "version": 3
   },
   "file_extension": ".py",
   "mimetype": "text/x-python",
   "name": "python",
   "nbconvert_exporter": "python",
   "pygments_lexer": "ipython3",
   "version": "3.9.7"
  }
 },
 "nbformat": 4,
 "nbformat_minor": 5
}
